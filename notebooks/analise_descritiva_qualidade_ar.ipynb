{
 "cells": [
  {
   "cell_type": "code",
   "execution_count": 1,
   "metadata": {},
   "outputs": [],
   "source": [
    "import pandas as pd\n",
    "import sys, os\n",
    "\n",
    "sys.path.append('../')\n",
    "\n",
    "from config.config import *"
   ]
  },
  {
   "cell_type": "code",
   "execution_count": 17,
   "metadata": {},
   "outputs": [],
   "source": [
    "def le_dados_qualidade_ar(lst_pastas):\n",
    "\n",
    "    lst_dfs = []\n",
    "\n",
    "    for pasta in lst_pastas:\n",
    "\n",
    "        for nm_arquivo in os.listdir(pasta):\n",
    "            if nm_arquivo.endswith('.csv'):\n",
    "                # print(nm_arquivo)\n",
    "                caminho_arquivo = os.path.join(pasta, nm_arquivo)\n",
    "\n",
    "                try:\n",
    "                    df = pd.read_csv(caminho_arquivo, sep = ',', encoding='utf-8')\n",
    "                except UnicodeDecodeError:\n",
    "                    df = pd.read_csv(caminho_arquivo, sep = ',', encoding='latin1')\n",
    "                finally:\n",
    "                    df['Tabela'] = nm_arquivo\n",
    "            \n",
    "                lst_dfs.append(df)\n",
    "\n",
    "    return pd.concat(lst_dfs)"
   ]
  },
  {
   "cell_type": "code",
   "execution_count": 18,
   "metadata": {},
   "outputs": [],
   "source": [
    "df = le_dados_qualidade_ar([PASTA_DADOS_QUALIDADE_AR_DF, PASTA_DADOS_QUALIDADE_AR_PE, PASTA_DADOS_QUALIDADE_AR_SP])"
   ]
  },
  {
   "cell_type": "code",
   "execution_count": 19,
   "metadata": {},
   "outputs": [
    {
     "data": {
      "text/html": [
       "<div>\n",
       "<style scoped>\n",
       "    .dataframe tbody tr th:only-of-type {\n",
       "        vertical-align: middle;\n",
       "    }\n",
       "\n",
       "    .dataframe tbody tr th {\n",
       "        vertical-align: top;\n",
       "    }\n",
       "\n",
       "    .dataframe thead th {\n",
       "        text-align: right;\n",
       "    }\n",
       "</style>\n",
       "<table border=\"1\" class=\"dataframe\">\n",
       "  <thead>\n",
       "    <tr style=\"text-align: right;\">\n",
       "      <th></th>\n",
       "      <th>Data</th>\n",
       "      <th>Hora</th>\n",
       "      <th>Estacao</th>\n",
       "      <th>Codigo</th>\n",
       "      <th>Poluente</th>\n",
       "      <th>Valor</th>\n",
       "      <th>Unidade</th>\n",
       "      <th>Tipo</th>\n",
       "      <th>Tabela</th>\n",
       "    </tr>\n",
       "  </thead>\n",
       "  <tbody>\n",
       "    <tr>\n",
       "      <th>0</th>\n",
       "      <td>2015-01-06</td>\n",
       "      <td>01:00</td>\n",
       "      <td>Rodoviária do Plano Piloto</td>\n",
       "      <td>DF03</td>\n",
       "      <td>PTS</td>\n",
       "      <td>128.70</td>\n",
       "      <td>ug/m3</td>\n",
       "      <td>manual</td>\n",
       "      <td>DF2015.csv</td>\n",
       "    </tr>\n",
       "    <tr>\n",
       "      <th>1</th>\n",
       "      <td>2015-01-08</td>\n",
       "      <td>01:00</td>\n",
       "      <td>Rodoviária do Plano Piloto</td>\n",
       "      <td>DF03</td>\n",
       "      <td>PTS</td>\n",
       "      <td>56.67</td>\n",
       "      <td>ug/m3</td>\n",
       "      <td>manual</td>\n",
       "      <td>DF2015.csv</td>\n",
       "    </tr>\n",
       "  </tbody>\n",
       "</table>\n",
       "</div>"
      ],
      "text/plain": [
       "         Data   Hora                     Estacao Codigo Poluente   Valor  \\\n",
       "0  2015-01-06  01:00  Rodoviária do Plano Piloto   DF03      PTS  128.70   \n",
       "1  2015-01-08  01:00  Rodoviária do Plano Piloto   DF03      PTS   56.67   \n",
       "\n",
       "  Unidade    Tipo      Tabela  \n",
       "0   ug/m3  manual  DF2015.csv  \n",
       "1   ug/m3  manual  DF2015.csv  "
      ]
     },
     "execution_count": 19,
     "metadata": {},
     "output_type": "execute_result"
    }
   ],
   "source": [
    "df.head(2)"
   ]
  },
  {
   "cell_type": "code",
   "execution_count": null,
   "metadata": {},
   "outputs": [],
   "source": []
  }
 ],
 "metadata": {
  "kernelspec": {
   "display_name": ".venv",
   "language": "python",
   "name": "python3"
  },
  "language_info": {
   "codemirror_mode": {
    "name": "ipython",
    "version": 3
   },
   "file_extension": ".py",
   "mimetype": "text/x-python",
   "name": "python",
   "nbconvert_exporter": "python",
   "pygments_lexer": "ipython3",
   "version": "3.11.1"
  },
  "orig_nbformat": 4
 },
 "nbformat": 4,
 "nbformat_minor": 2
}
